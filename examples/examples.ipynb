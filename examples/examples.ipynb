{
 "cells": [
  {
   "cell_type": "code",
   "execution_count": null,
   "metadata": {},
   "outputs": [],
   "source": [
    "from ipywidgets_extended.dropdown import DropdownExtended"
   ]
  },
  {
   "cell_type": "markdown",
   "metadata": {},
   "source": [
    "# `DropdownExtended` widget\n",
    "\n",
    "## Disabled options"
   ]
  },
  {
   "cell_type": "code",
   "execution_count": null,
   "metadata": {},
   "outputs": [],
   "source": [
    "DropdownExtended(\n",
    "    options=[\"Option 1\", \"Option 2\", \"Option 3\", \"Option 4\"],\n",
    "    disabled_options=[\"Option 1\", \"Option 3\"],\n",
    ")"
   ]
  },
  {
   "cell_type": "markdown",
   "metadata": {},
   "source": [
    "In the example above, **DropdownExtended** is initialized with 4 options, 2 of which are disabled.\n",
    "Note that since the first option is disabled, the widget initializes with the first non-disabled option - in this case _Option 2_.\n",
    "\n",
    "If all options are initialized as disabled, the widget will mimic the **Dropdown** widget, if no options had been supplied, i.e., it will set `index`, `label`, and `value` to `None`, leaving the \"chosen\" option blank:"
   ]
  },
  {
   "cell_type": "code",
   "execution_count": null,
   "metadata": {},
   "outputs": [],
   "source": [
    "DropdownExtended(\n",
    "    options=[\"Option 1\", \"Option 2\", \"Option 3\", \"Option 4\"],\n",
    "    disabled_options=[\"Option 1\", \"Option 2\", \"Option 3\", \"Option 4\"],\n",
    ")"
   ]
  },
  {
   "cell_type": "code",
   "execution_count": null,
   "metadata": {},
   "outputs": [],
   "source": [
    "dropdown = DropdownExtended(\n",
    "    options=[\"Option 1\", \"Option 2\", \"Option 3\", \"Option 4\"]\n",
    ")\n",
    "dropdown"
   ]
  },
  {
   "cell_type": "code",
   "execution_count": null,
   "metadata": {},
   "outputs": [],
   "source": [
    "dropdown.disabled_options = [\"Option 2\", \"Option 3\"]"
   ]
  },
  {
   "cell_type": "markdown",
   "metadata": {},
   "source": [
    "In the dropdown above, it is first rendered without any disabled options (try running only the first cell to see).\n",
    "\n",
    "When the second cell is run the options `Option 2` and `Option 3` are disabled.\n",
    "Depending on which value you have currently chosen, the dropbox will do different things:\n",
    "\n",
    "- If you prior to running the second cell have chosen a value that is still enabled afterwards, it will stay the chosen value (try this out by choosing `Option 4`).\n",
    "- If you prior to running the second cell have chosen a value that is disabled afterwards, the widget will default to the first value (from the beginning/top) that is enabled.\n",
    "  If no values are enabled, you will get the same result as the second **DropdownExtended** widget above (no value will be chosen, leaving it blank and the `value` will be `None`).\n",
    "  You can try this out by first choosing `Option 2` or `Option 3` and then running the second cell.\n",
    "  This will result in `Option 1` being chosen.\n",
    "  And if you extend the list of disabled options in the second cell to include also `Option 1` and `Option 4`, you will see that this will leave the widget blank (you can run the cell below to try this out)."
   ]
  },
  {
   "cell_type": "code",
   "execution_count": null,
   "metadata": {},
   "outputs": [],
   "source": [
    "dropdown.disabled_options = [\"Option 1\", \"Option 2\", \"Option 3\", \"Option 4\"]"
   ]
  },
  {
   "cell_type": "markdown",
   "metadata": {},
   "source": [
    "## Grouping\n",
    "\n",
    "The options can be grouped as well using the `grouping` parameter.\n",
    "Note, `grouping` is an *alternative* to using `options` when initializing, using both will result in a `ValueError`.\n",
    "\n",
    "The value for `grouping` should be an iterable of (header, `options`)-pairs, where `options` signifies a value similar to what you would normally put for the `options` parameter.\n",
    "Example:\n",
    "\n",
    "```python\n",
    "grouping = [\n",
    "    (\n",
    "        \"Group 1\",\n",
    "        [(\"Option 1-1\", \"Value 1-1\"), (\"Option 1-2\", \"Value 1-2\")]\n",
    "    ),\n",
    "    (\n",
    "        \"Group 2\",\n",
    "        [(\"Option 2-1\", \"Value 2-1\"), (\"Option 2-2\", \"Value 2-2\"), (\"Option 2-3\", \"Value 2-3\")]\n",
    "    )\n",
    "]\n",
    "```"
   ]
  },
  {
   "cell_type": "code",
   "execution_count": null,
   "metadata": {},
   "outputs": [],
   "source": [
    "DropdownExtended(\n",
    "    grouping=[\n",
    "        (\"Group 1\", [(\"Option 1-1\", \"Value 1-1\"), (\"Option 1-2\", \"Value 1-2\")]),\n",
    "        (\"Group 2\", [(\"Option 2-1\", \"Value 2-1\"), (\"Option 2-2\", \"Value 2-2\"), (\"Option 2-3\", \"Value 2-3\")]),\n",
    "    ]\n",
    ")"
   ]
  },
  {
   "cell_type": "markdown",
   "metadata": {},
   "source": [
    "### Disabled options\n",
    "\n",
    "Grouping can be combined with disabled options as well.\n",
    "In the following a new dropdown has some disabled options:"
   ]
  },
  {
   "cell_type": "code",
   "execution_count": null,
   "metadata": {},
   "outputs": [],
   "source": [
    "dropdown = DropdownExtended(\n",
    "    grouping=[\n",
    "        (\"Group 1\", [(\"Option 1-1\", \"Value 1-1\"), (\"Option 1-2\", \"Value 1-2\")]),\n",
    "        (\"Group 2\", [(\"Option 2-1\", \"Value 2-1\"), (\"Option 2-2\", \"Value 2-2\"), (\"Option 2-3\", \"Value 2-3\")]),\n",
    "    ],\n",
    "    disabled_options=[\"Option 2-3\", \"Option 1-1\"],\n",
    ")\n",
    "dropdown"
   ]
  },
  {
   "cell_type": "markdown",
   "metadata": {},
   "source": [
    "The disabled options can be changed here as well."
   ]
  },
  {
   "cell_type": "code",
   "execution_count": null,
   "metadata": {},
   "outputs": [],
   "source": [
    "dropdown.disabled_options = [\"Option 1-1\", \"Option 1-2\"]"
   ]
  },
  {
   "cell_type": "markdown",
   "metadata": {},
   "source": [
    "### Mixed grouped and un-grouped options\n",
    "\n",
    "One can create un-grouped options alongside grouped options by setting the header to an empty string `\"\"`."
   ]
  },
  {
   "cell_type": "code",
   "execution_count": null,
   "metadata": {},
   "outputs": [],
   "source": [
    "dropdown = DropdownExtended(\n",
    "    grouping=[\n",
    "        (\"\", [\"Choose an option ...\"]),\n",
    "        (\"Group 1\", [(\"Option 1-1\", \"Value 1-1\"), (\"Option 1-2\", \"Value 1-2\")]),\n",
    "        (\"\", [(\"This option is not grouped\", \"Non-grouped value 1\"), (\"This second option is not grouped\", \"Non-grouped value 2\")]),\n",
    "        (\"Group 2\", [(\"Option 2-1\", \"Value 2-1\"), (\"Option 2-2\", \"Value 2-2\"), (\"Option 2-3\", \"Value 2-3\")]),\n",
    "    ]\n",
    ")\n",
    "dropdown"
   ]
  },
  {
   "cell_type": "markdown",
   "metadata": {},
   "source": [
    "The grouping can also be updated after creating the object.\n",
    "Let's remove the un-grouped options between the groups and only have a single option in `\"Group 1\"`:"
   ]
  },
  {
   "cell_type": "code",
   "execution_count": null,
   "metadata": {},
   "outputs": [],
   "source": [
    "dropdown.grouping = [\n",
    "    (\"\", [\"Choose an option ...\"]),\n",
    "    (\"Group 1\", [(\"Option 1-1\", \"Value 1-1\")]),\n",
    "    (\"Group 2\", [(\"Option 2-1\", \"Value 2-1\"), (\"Option 2-2\", \"Value 2-2\"), (\"Option 2-3\", \"Value 2-3\")]),\n",
    "]"
   ]
  }
 ],
 "metadata": {
  "kernelspec": {
   "display_name": "Python 3 (ipykernel)",
   "language": "python",
   "name": "python3"
  },
  "language_info": {
   "codemirror_mode": {
    "name": "ipython",
    "version": 3
   },
   "file_extension": ".py",
   "mimetype": "text/x-python",
   "name": "python",
   "nbconvert_exporter": "python",
   "pygments_lexer": "ipython3",
   "version": "3.8.10"
  }
 },
 "nbformat": 4,
 "nbformat_minor": 4
}
