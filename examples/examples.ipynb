{
 "cells": [
  {
   "cell_type": "code",
   "execution_count": null,
   "metadata": {},
   "outputs": [],
   "source": [
    "from ipywidgets_extended.dropdown import DropdownExtended"
   ]
  },
  {
   "cell_type": "code",
   "execution_count": null,
   "metadata": {},
   "outputs": [],
   "source": [
    "DropdownExtended(\n",
    "    options=[\"Option 1\", \"Option 2\", \"Option 3\", \"Option 4\"],\n",
    "    disabled_options=[\"Option 1\", \"Option 3\"],\n",
    ")"
   ]
  },
  {
   "cell_type": "markdown",
   "metadata": {},
   "source": [
    "In the example above, **DropdownExtended** is initialized with 4 options, 2 of which are disabled.\n",
    "Note that since the first option is disabled, the widget initializes with the first non-disabled option - in this case _Option 2_.\n",
    "\n",
    "If all options are initialized as disabled, the widget will mimic the **Dropdown** widget, if no options had been supplied, i.e., it will set `index`, `label`, and `value` to `None`, leaving the \"chosen\" option blank:"
   ]
  },
  {
   "cell_type": "code",
   "execution_count": null,
   "metadata": {},
   "outputs": [],
   "source": [
    "DropdownExtended(\n",
    "    options=[\"Option 1\", \"Option 2\", \"Option 3\", \"Option 4\"],\n",
    "    disabled_options=[\"Option 1\", \"Option 2\", \"Option 3\", \"Option 4\"],\n",
    ")"
   ]
  },
  {
   "cell_type": "code",
   "execution_count": null,
   "metadata": {},
   "outputs": [],
   "source": [
    "dropdown = DropdownExtended(\n",
    "    options=[\"Option 1\", \"Option 2\", \"Option 3\", \"Option 4\"]\n",
    ")\n",
    "dropdown"
   ]
  },
  {
   "cell_type": "code",
   "execution_count": null,
   "metadata": {},
   "outputs": [],
   "source": [
    "dropdown.disabled_options = [\"Option 2\", \"Option 3\"]"
   ]
  },
  {
   "cell_type": "markdown",
   "metadata": {},
   "source": [
    "In the dropdown above, it is first rendered without any disabled options (try running only the first cell to see).\n",
    "\n",
    "When the second cell is run the options `Option 2` and `Option 3` are disabled.\n",
    "Depending on which value you have currently chosen, the dropbox will do different things:\n",
    "\n",
    "- If you prior to running the second cell have chosen a value that is still enabled afterwards, it will stay the chosen value (try this out by choosing `Option 4`).\n",
    "- If you prior to running the second cell have chosen a value that is disabled afterwards, the widget will default to the first value (from the beginning/top) that is enabled.\n",
    "  If no values are enabled, you will get the same result as the second **DropdownExtended** widget above (no value will be chosen, leaving it blank and the `value` will be `None`).\n",
    "  You can try this out by first choosing `Option 2` or `Option 3` and then running the second cell.\n",
    "  This will result in `Option 1` being chosen.\n",
    "  And if you extend the list of disabled options in the second cell to include also `Option 1` and `Option 4`, you will see that this will leave the widget blank (you can run the cell below to try this out)."
   ]
  },
  {
   "cell_type": "code",
   "execution_count": null,
   "metadata": {},
   "outputs": [],
   "source": [
    "dropdown.disabled_options = [\"Option 1\", \"Option 2\", \"Option 3\", \"Option 4\"]"
   ]
  }
 ],
 "metadata": {
  "kernelspec": {
   "display_name": "Python 3",
   "language": "python",
   "name": "python3"
  },
  "language_info": {
   "codemirror_mode": {
    "name": "ipython",
    "version": 3
   },
   "file_extension": ".py",
   "mimetype": "text/x-python",
   "name": "python",
   "nbconvert_exporter": "python",
   "pygments_lexer": "ipython3",
   "version": "3.8.6"
  }
 },
 "nbformat": 4,
 "nbformat_minor": 4
}
