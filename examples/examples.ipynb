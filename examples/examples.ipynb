{
 "cells": [
  {
   "cell_type": "code",
   "execution_count": 1,
   "metadata": {},
   "outputs": [],
   "source": [
    "from ipywidgets_extended.dropdown import DropdownExtended"
   ]
  },
  {
   "cell_type": "code",
   "execution_count": 4,
   "metadata": {},
   "outputs": [
    {
     "data": {
      "application/vnd.jupyter.widget-view+json": {
       "model_id": "a63cac5b89fe48bf871adc87c46462da",
       "version_major": 2,
       "version_minor": 0
      },
      "text/plain": [
       "DropdownExtended(disabled_options=['Option 1', 'Option 3', 'Option 4'], index=1, layout=Layout(width='auto'), …"
      ]
     },
     "metadata": {},
     "output_type": "display_data"
    }
   ],
   "source": [
    "DropdownExtended(\n",
    "    options=[\"Option 1\", \"Option 2\", \"Option 3\", \"Option 4\"],\n",
    "    disabled_options=[\"Option 1\", \"Option 3\"],\n",
    ")"
   ]
  },
  {
   "cell_type": "markdown",
   "metadata": {},
   "source": [
    "In the example above, **DropdownExtended** is initialized with 4 option, 2 of which are disabled.\n",
    "Note that since the first option is disabled, the widget initializes with the first non-disabled option - in this case _Option 2_.\n",
    "\n",
    "If all options are initialized as disabled, the widget will mimic the **Dropdown** widget, if no options had been supplied, i.e., it will set `index`, `label`, and `value` to `None`, leaving the \"chosen\" option blank:"
   ]
  },
  {
   "cell_type": "code",
   "execution_count": 5,
   "metadata": {},
   "outputs": [
    {
     "data": {
      "application/vnd.jupyter.widget-view+json": {
       "model_id": "fdfdfd45913f44bb9eb3dd52ff6368be",
       "version_major": 2,
       "version_minor": 0
      },
      "text/plain": [
       "DropdownExtended(disabled_options=['Option 1', 'Option 2', 'Option 3', 'Option 4'], options=('Option 1', 'Opti…"
      ]
     },
     "metadata": {},
     "output_type": "display_data"
    }
   ],
   "source": [
    "DropdownExtended(\n",
    "    options=[\"Option 1\", \"Option 2\", \"Option 3\", \"Option 4\"],\n",
    "    disabled_options=[\"Option 1\", \"Option 2\", \"Option 3\", \"Option 4\"],\n",
    ")"
   ]
  }
 ],
 "metadata": {
  "kernelspec": {
   "display_name": "Python 3",
   "language": "python",
   "name": "python3"
  },
  "language_info": {
   "codemirror_mode": {
    "name": "ipython",
    "version": 3
   },
   "file_extension": ".py",
   "mimetype": "text/x-python",
   "name": "python",
   "nbconvert_exporter": "python",
   "pygments_lexer": "ipython3",
   "version": "3.8.6"
  }
 },
 "nbformat": 4,
 "nbformat_minor": 4
}
